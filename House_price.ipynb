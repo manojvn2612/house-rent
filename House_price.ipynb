{
  "nbformat": 4,
  "nbformat_minor": 0,
  "metadata": {
    "colab": {
      "provenance": []
    },
    "kernelspec": {
      "name": "python3",
      "display_name": "Python 3"
    },
    "language_info": {
      "name": "python"
    }
  },
  "cells": [
    {
      "cell_type": "code",
      "execution_count": null,
      "metadata": {
        "id": "44FnSNPQ2BJW"
      },
      "outputs": [],
      "source": [
        "from tensorflow.keras import *\n",
        "import tensorflow as tf\n",
        "import numpy as np\n",
        "import matplotlib.pyplot as plt\n",
        "import pandas as pd\n",
        "from sklearn.preprocessing import StandardScaler"
      ]
    },
    {
      "cell_type": "code",
      "source": [
        "df = pd.read_csv('sample_data/california_housing_train.csv')\n",
        "df.head()"
      ],
      "metadata": {
        "colab": {
          "base_uri": "https://localhost:8080/",
          "height": 206
        },
        "id": "2yeZJByHhnz6",
        "outputId": "049b3b8a-1947-4ae5-bb5e-71a8015e4f32"
      },
      "execution_count": null,
      "outputs": [
        {
          "output_type": "execute_result",
          "data": {
            "text/plain": [
              "   longitude  latitude  housing_median_age  total_rooms  total_bedrooms  \\\n",
              "0    -114.31     34.19                15.0       5612.0          1283.0   \n",
              "1    -114.47     34.40                19.0       7650.0          1901.0   \n",
              "2    -114.56     33.69                17.0        720.0           174.0   \n",
              "3    -114.57     33.64                14.0       1501.0           337.0   \n",
              "4    -114.57     33.57                20.0       1454.0           326.0   \n",
              "\n",
              "   population  households  median_income  median_house_value  \n",
              "0      1015.0       472.0         1.4936             66900.0  \n",
              "1      1129.0       463.0         1.8200             80100.0  \n",
              "2       333.0       117.0         1.6509             85700.0  \n",
              "3       515.0       226.0         3.1917             73400.0  \n",
              "4       624.0       262.0         1.9250             65500.0  "
            ],
            "text/html": [
              "\n",
              "  <div id=\"df-6c24bf05-cbf8-4b7f-aba5-42c8169e843b\" class=\"colab-df-container\">\n",
              "    <div>\n",
              "<style scoped>\n",
              "    .dataframe tbody tr th:only-of-type {\n",
              "        vertical-align: middle;\n",
              "    }\n",
              "\n",
              "    .dataframe tbody tr th {\n",
              "        vertical-align: top;\n",
              "    }\n",
              "\n",
              "    .dataframe thead th {\n",
              "        text-align: right;\n",
              "    }\n",
              "</style>\n",
              "<table border=\"1\" class=\"dataframe\">\n",
              "  <thead>\n",
              "    <tr style=\"text-align: right;\">\n",
              "      <th></th>\n",
              "      <th>longitude</th>\n",
              "      <th>latitude</th>\n",
              "      <th>housing_median_age</th>\n",
              "      <th>total_rooms</th>\n",
              "      <th>total_bedrooms</th>\n",
              "      <th>population</th>\n",
              "      <th>households</th>\n",
              "      <th>median_income</th>\n",
              "      <th>median_house_value</th>\n",
              "    </tr>\n",
              "  </thead>\n",
              "  <tbody>\n",
              "    <tr>\n",
              "      <th>0</th>\n",
              "      <td>-114.31</td>\n",
              "      <td>34.19</td>\n",
              "      <td>15.0</td>\n",
              "      <td>5612.0</td>\n",
              "      <td>1283.0</td>\n",
              "      <td>1015.0</td>\n",
              "      <td>472.0</td>\n",
              "      <td>1.4936</td>\n",
              "      <td>66900.0</td>\n",
              "    </tr>\n",
              "    <tr>\n",
              "      <th>1</th>\n",
              "      <td>-114.47</td>\n",
              "      <td>34.40</td>\n",
              "      <td>19.0</td>\n",
              "      <td>7650.0</td>\n",
              "      <td>1901.0</td>\n",
              "      <td>1129.0</td>\n",
              "      <td>463.0</td>\n",
              "      <td>1.8200</td>\n",
              "      <td>80100.0</td>\n",
              "    </tr>\n",
              "    <tr>\n",
              "      <th>2</th>\n",
              "      <td>-114.56</td>\n",
              "      <td>33.69</td>\n",
              "      <td>17.0</td>\n",
              "      <td>720.0</td>\n",
              "      <td>174.0</td>\n",
              "      <td>333.0</td>\n",
              "      <td>117.0</td>\n",
              "      <td>1.6509</td>\n",
              "      <td>85700.0</td>\n",
              "    </tr>\n",
              "    <tr>\n",
              "      <th>3</th>\n",
              "      <td>-114.57</td>\n",
              "      <td>33.64</td>\n",
              "      <td>14.0</td>\n",
              "      <td>1501.0</td>\n",
              "      <td>337.0</td>\n",
              "      <td>515.0</td>\n",
              "      <td>226.0</td>\n",
              "      <td>3.1917</td>\n",
              "      <td>73400.0</td>\n",
              "    </tr>\n",
              "    <tr>\n",
              "      <th>4</th>\n",
              "      <td>-114.57</td>\n",
              "      <td>33.57</td>\n",
              "      <td>20.0</td>\n",
              "      <td>1454.0</td>\n",
              "      <td>326.0</td>\n",
              "      <td>624.0</td>\n",
              "      <td>262.0</td>\n",
              "      <td>1.9250</td>\n",
              "      <td>65500.0</td>\n",
              "    </tr>\n",
              "  </tbody>\n",
              "</table>\n",
              "</div>\n",
              "    <div class=\"colab-df-buttons\">\n",
              "\n",
              "  <div class=\"colab-df-container\">\n",
              "    <button class=\"colab-df-convert\" onclick=\"convertToInteractive('df-6c24bf05-cbf8-4b7f-aba5-42c8169e843b')\"\n",
              "            title=\"Convert this dataframe to an interactive table.\"\n",
              "            style=\"display:none;\">\n",
              "\n",
              "  <svg xmlns=\"http://www.w3.org/2000/svg\" height=\"24px\" viewBox=\"0 -960 960 960\">\n",
              "    <path d=\"M120-120v-720h720v720H120Zm60-500h600v-160H180v160Zm220 220h160v-160H400v160Zm0 220h160v-160H400v160ZM180-400h160v-160H180v160Zm440 0h160v-160H620v160ZM180-180h160v-160H180v160Zm440 0h160v-160H620v160Z\"/>\n",
              "  </svg>\n",
              "    </button>\n",
              "\n",
              "  <style>\n",
              "    .colab-df-container {\n",
              "      display:flex;\n",
              "      gap: 12px;\n",
              "    }\n",
              "\n",
              "    .colab-df-convert {\n",
              "      background-color: #E8F0FE;\n",
              "      border: none;\n",
              "      border-radius: 50%;\n",
              "      cursor: pointer;\n",
              "      display: none;\n",
              "      fill: #1967D2;\n",
              "      height: 32px;\n",
              "      padding: 0 0 0 0;\n",
              "      width: 32px;\n",
              "    }\n",
              "\n",
              "    .colab-df-convert:hover {\n",
              "      background-color: #E2EBFA;\n",
              "      box-shadow: 0px 1px 2px rgba(60, 64, 67, 0.3), 0px 1px 3px 1px rgba(60, 64, 67, 0.15);\n",
              "      fill: #174EA6;\n",
              "    }\n",
              "\n",
              "    .colab-df-buttons div {\n",
              "      margin-bottom: 4px;\n",
              "    }\n",
              "\n",
              "    [theme=dark] .colab-df-convert {\n",
              "      background-color: #3B4455;\n",
              "      fill: #D2E3FC;\n",
              "    }\n",
              "\n",
              "    [theme=dark] .colab-df-convert:hover {\n",
              "      background-color: #434B5C;\n",
              "      box-shadow: 0px 1px 3px 1px rgba(0, 0, 0, 0.15);\n",
              "      filter: drop-shadow(0px 1px 2px rgba(0, 0, 0, 0.3));\n",
              "      fill: #FFFFFF;\n",
              "    }\n",
              "  </style>\n",
              "\n",
              "    <script>\n",
              "      const buttonEl =\n",
              "        document.querySelector('#df-6c24bf05-cbf8-4b7f-aba5-42c8169e843b button.colab-df-convert');\n",
              "      buttonEl.style.display =\n",
              "        google.colab.kernel.accessAllowed ? 'block' : 'none';\n",
              "\n",
              "      async function convertToInteractive(key) {\n",
              "        const element = document.querySelector('#df-6c24bf05-cbf8-4b7f-aba5-42c8169e843b');\n",
              "        const dataTable =\n",
              "          await google.colab.kernel.invokeFunction('convertToInteractive',\n",
              "                                                    [key], {});\n",
              "        if (!dataTable) return;\n",
              "\n",
              "        const docLinkHtml = 'Like what you see? Visit the ' +\n",
              "          '<a target=\"_blank\" href=https://colab.research.google.com/notebooks/data_table.ipynb>data table notebook</a>'\n",
              "          + ' to learn more about interactive tables.';\n",
              "        element.innerHTML = '';\n",
              "        dataTable['output_type'] = 'display_data';\n",
              "        await google.colab.output.renderOutput(dataTable, element);\n",
              "        const docLink = document.createElement('div');\n",
              "        docLink.innerHTML = docLinkHtml;\n",
              "        element.appendChild(docLink);\n",
              "      }\n",
              "    </script>\n",
              "  </div>\n",
              "\n",
              "\n",
              "<div id=\"df-e8777468-9e0b-4c11-a6e9-15c5d4b300ea\">\n",
              "  <button class=\"colab-df-quickchart\" onclick=\"quickchart('df-e8777468-9e0b-4c11-a6e9-15c5d4b300ea')\"\n",
              "            title=\"Suggest charts\"\n",
              "            style=\"display:none;\">\n",
              "\n",
              "<svg xmlns=\"http://www.w3.org/2000/svg\" height=\"24px\"viewBox=\"0 0 24 24\"\n",
              "     width=\"24px\">\n",
              "    <g>\n",
              "        <path d=\"M19 3H5c-1.1 0-2 .9-2 2v14c0 1.1.9 2 2 2h14c1.1 0 2-.9 2-2V5c0-1.1-.9-2-2-2zM9 17H7v-7h2v7zm4 0h-2V7h2v10zm4 0h-2v-4h2v4z\"/>\n",
              "    </g>\n",
              "</svg>\n",
              "  </button>\n",
              "\n",
              "<style>\n",
              "  .colab-df-quickchart {\n",
              "      --bg-color: #E8F0FE;\n",
              "      --fill-color: #1967D2;\n",
              "      --hover-bg-color: #E2EBFA;\n",
              "      --hover-fill-color: #174EA6;\n",
              "      --disabled-fill-color: #AAA;\n",
              "      --disabled-bg-color: #DDD;\n",
              "  }\n",
              "\n",
              "  [theme=dark] .colab-df-quickchart {\n",
              "      --bg-color: #3B4455;\n",
              "      --fill-color: #D2E3FC;\n",
              "      --hover-bg-color: #434B5C;\n",
              "      --hover-fill-color: #FFFFFF;\n",
              "      --disabled-bg-color: #3B4455;\n",
              "      --disabled-fill-color: #666;\n",
              "  }\n",
              "\n",
              "  .colab-df-quickchart {\n",
              "    background-color: var(--bg-color);\n",
              "    border: none;\n",
              "    border-radius: 50%;\n",
              "    cursor: pointer;\n",
              "    display: none;\n",
              "    fill: var(--fill-color);\n",
              "    height: 32px;\n",
              "    padding: 0;\n",
              "    width: 32px;\n",
              "  }\n",
              "\n",
              "  .colab-df-quickchart:hover {\n",
              "    background-color: var(--hover-bg-color);\n",
              "    box-shadow: 0 1px 2px rgba(60, 64, 67, 0.3), 0 1px 3px 1px rgba(60, 64, 67, 0.15);\n",
              "    fill: var(--button-hover-fill-color);\n",
              "  }\n",
              "\n",
              "  .colab-df-quickchart-complete:disabled,\n",
              "  .colab-df-quickchart-complete:disabled:hover {\n",
              "    background-color: var(--disabled-bg-color);\n",
              "    fill: var(--disabled-fill-color);\n",
              "    box-shadow: none;\n",
              "  }\n",
              "\n",
              "  .colab-df-spinner {\n",
              "    border: 2px solid var(--fill-color);\n",
              "    border-color: transparent;\n",
              "    border-bottom-color: var(--fill-color);\n",
              "    animation:\n",
              "      spin 1s steps(1) infinite;\n",
              "  }\n",
              "\n",
              "  @keyframes spin {\n",
              "    0% {\n",
              "      border-color: transparent;\n",
              "      border-bottom-color: var(--fill-color);\n",
              "      border-left-color: var(--fill-color);\n",
              "    }\n",
              "    20% {\n",
              "      border-color: transparent;\n",
              "      border-left-color: var(--fill-color);\n",
              "      border-top-color: var(--fill-color);\n",
              "    }\n",
              "    30% {\n",
              "      border-color: transparent;\n",
              "      border-left-color: var(--fill-color);\n",
              "      border-top-color: var(--fill-color);\n",
              "      border-right-color: var(--fill-color);\n",
              "    }\n",
              "    40% {\n",
              "      border-color: transparent;\n",
              "      border-right-color: var(--fill-color);\n",
              "      border-top-color: var(--fill-color);\n",
              "    }\n",
              "    60% {\n",
              "      border-color: transparent;\n",
              "      border-right-color: var(--fill-color);\n",
              "    }\n",
              "    80% {\n",
              "      border-color: transparent;\n",
              "      border-right-color: var(--fill-color);\n",
              "      border-bottom-color: var(--fill-color);\n",
              "    }\n",
              "    90% {\n",
              "      border-color: transparent;\n",
              "      border-bottom-color: var(--fill-color);\n",
              "    }\n",
              "  }\n",
              "</style>\n",
              "\n",
              "  <script>\n",
              "    async function quickchart(key) {\n",
              "      const quickchartButtonEl =\n",
              "        document.querySelector('#' + key + ' button');\n",
              "      quickchartButtonEl.disabled = true;  // To prevent multiple clicks.\n",
              "      quickchartButtonEl.classList.add('colab-df-spinner');\n",
              "      try {\n",
              "        const charts = await google.colab.kernel.invokeFunction(\n",
              "            'suggestCharts', [key], {});\n",
              "      } catch (error) {\n",
              "        console.error('Error during call to suggestCharts:', error);\n",
              "      }\n",
              "      quickchartButtonEl.classList.remove('colab-df-spinner');\n",
              "      quickchartButtonEl.classList.add('colab-df-quickchart-complete');\n",
              "    }\n",
              "    (() => {\n",
              "      let quickchartButtonEl =\n",
              "        document.querySelector('#df-e8777468-9e0b-4c11-a6e9-15c5d4b300ea button');\n",
              "      quickchartButtonEl.style.display =\n",
              "        google.colab.kernel.accessAllowed ? 'block' : 'none';\n",
              "    })();\n",
              "  </script>\n",
              "</div>\n",
              "\n",
              "    </div>\n",
              "  </div>\n"
            ],
            "application/vnd.google.colaboratory.intrinsic+json": {
              "type": "dataframe",
              "variable_name": "df",
              "summary": "{\n  \"name\": \"df\",\n  \"rows\": 17000,\n  \"fields\": [\n    {\n      \"column\": \"longitude\",\n      \"properties\": {\n        \"dtype\": \"number\",\n        \"std\": 2.0051664084261778,\n        \"min\": -124.35,\n        \"max\": -114.31,\n        \"num_unique_values\": 827,\n        \"samples\": [\n          -117.56,\n          -123.32,\n          -118.26\n        ],\n        \"semantic_type\": \"\",\n        \"description\": \"\"\n      }\n    },\n    {\n      \"column\": \"latitude\",\n      \"properties\": {\n        \"dtype\": \"number\",\n        \"std\": 2.1373397946570836,\n        \"min\": 32.54,\n        \"max\": 41.95,\n        \"num_unique_values\": 840,\n        \"samples\": [\n          38.44,\n          40.79,\n          32.69\n        ],\n        \"semantic_type\": \"\",\n        \"description\": \"\"\n      }\n    },\n    {\n      \"column\": \"housing_median_age\",\n      \"properties\": {\n        \"dtype\": \"number\",\n        \"std\": 12.586936981660399,\n        \"min\": 1.0,\n        \"max\": 52.0,\n        \"num_unique_values\": 52,\n        \"samples\": [\n          23.0,\n          52.0,\n          47.0\n        ],\n        \"semantic_type\": \"\",\n        \"description\": \"\"\n      }\n    },\n    {\n      \"column\": \"total_rooms\",\n      \"properties\": {\n        \"dtype\": \"number\",\n        \"std\": 2179.947071452767,\n        \"min\": 2.0,\n        \"max\": 37937.0,\n        \"num_unique_values\": 5533,\n        \"samples\": [\n          3564.0,\n          6955.0,\n          5451.0\n        ],\n        \"semantic_type\": \"\",\n        \"description\": \"\"\n      }\n    },\n    {\n      \"column\": \"total_bedrooms\",\n      \"properties\": {\n        \"dtype\": \"number\",\n        \"std\": 421.4994515798646,\n        \"min\": 1.0,\n        \"max\": 6445.0,\n        \"num_unique_values\": 1848,\n        \"samples\": [\n          729.0,\n          719.0,\n          2075.0\n        ],\n        \"semantic_type\": \"\",\n        \"description\": \"\"\n      }\n    },\n    {\n      \"column\": \"population\",\n      \"properties\": {\n        \"dtype\": \"number\",\n        \"std\": 1147.8529591595266,\n        \"min\": 3.0,\n        \"max\": 35682.0,\n        \"num_unique_values\": 3683,\n        \"samples\": [\n          249.0,\n          1735.0,\n          235.0\n        ],\n        \"semantic_type\": \"\",\n        \"description\": \"\"\n      }\n    },\n    {\n      \"column\": \"households\",\n      \"properties\": {\n        \"dtype\": \"number\",\n        \"std\": 384.5208408559009,\n        \"min\": 1.0,\n        \"max\": 6082.0,\n        \"num_unique_values\": 1740,\n        \"samples\": [\n          390.0,\n          1089.0,\n          1351.0\n        ],\n        \"semantic_type\": \"\",\n        \"description\": \"\"\n      }\n    },\n    {\n      \"column\": \"median_income\",\n      \"properties\": {\n        \"dtype\": \"number\",\n        \"std\": 1.9081565183791036,\n        \"min\": 0.4999,\n        \"max\": 15.0001,\n        \"num_unique_values\": 11175,\n        \"samples\": [\n          7.2655,\n          5.6293,\n          4.2262\n        ],\n        \"semantic_type\": \"\",\n        \"description\": \"\"\n      }\n    },\n    {\n      \"column\": \"median_house_value\",\n      \"properties\": {\n        \"dtype\": \"number\",\n        \"std\": 115983.76438720885,\n        \"min\": 14999.0,\n        \"max\": 500001.0,\n        \"num_unique_values\": 3694,\n        \"samples\": [\n          162300.0,\n          346800.0,\n          116700.0\n        ],\n        \"semantic_type\": \"\",\n        \"description\": \"\"\n      }\n    }\n  ]\n}"
            }
          },
          "metadata": {},
          "execution_count": 13
        }
      ]
    },
    {
      "cell_type": "code",
      "source": [
        "X = np.array(df.iloc[:,:-1].values)\n",
        "y = np.array(df.iloc[:,-1].values)"
      ],
      "metadata": {
        "id": "likqPEq-h_EO"
      },
      "execution_count": null,
      "outputs": []
    },
    {
      "cell_type": "code",
      "source": [
        "sx_x = StandardScaler()\n",
        "X = sx_x.fit_transform(X)\n",
        "y = sx_x.fit_transform(y.reshape(-1,1))"
      ],
      "metadata": {
        "id": "CWepsCcAiKRF"
      },
      "execution_count": null,
      "outputs": []
    },
    {
      "cell_type": "code",
      "source": [
        "y.shape"
      ],
      "metadata": {
        "colab": {
          "base_uri": "https://localhost:8080/"
        },
        "id": "3ooVZ-jFi640",
        "outputId": "db4d21fb-a450-4f59-fd4c-d14108cade85"
      },
      "execution_count": null,
      "outputs": [
        {
          "output_type": "execute_result",
          "data": {
            "text/plain": [
              "(17000, 1)"
            ]
          },
          "metadata": {},
          "execution_count": 16
        }
      ]
    },
    {
      "cell_type": "code",
      "source": [
        "model = Sequential()\n",
        "model.add(layers.InputLayer(input_shape = X.shape[1]))\n",
        "model.add(layers.Dense(10,activation = 'linear'))\n",
        "model.add(layers.Dropout(0.2))\n",
        "model.add(layers.Dense(10,activation = 'linear'))\n",
        "model.add(layers.Dropout(0.2))\n",
        "model.add(layers.Dense(y.shape[1],activation = 'linear'))"
      ],
      "metadata": {
        "id": "uEl6xyBtiM0k"
      },
      "execution_count": null,
      "outputs": []
    },
    {
      "cell_type": "code",
      "source": [
        "model.compile(optimizer='Adam',loss='mean_squared_error',metrics=['mse'])\n",
        "model.fit(X,y,epochs = 50 , batch_size = 500)"
      ],
      "metadata": {
        "colab": {
          "base_uri": "https://localhost:8080/"
        },
        "id": "2v-5DARVoKlT",
        "outputId": "021bd7ab-3a68-4d02-fda9-b6eba5fb7bb8"
      },
      "execution_count": null,
      "outputs": [
        {
          "output_type": "stream",
          "name": "stdout",
          "text": [
            "Epoch 1/50\n",
            "34/34 [==============================] - 1s 2ms/step - loss: 1.7252 - mse: 1.7252\n",
            "Epoch 2/50\n",
            "34/34 [==============================] - 0s 2ms/step - loss: 1.1077 - mse: 1.1077\n",
            "Epoch 3/50\n",
            "34/34 [==============================] - 0s 2ms/step - loss: 0.8739 - mse: 0.8739\n",
            "Epoch 4/50\n",
            "34/34 [==============================] - 0s 2ms/step - loss: 0.7373 - mse: 0.7373\n",
            "Epoch 5/50\n",
            "34/34 [==============================] - 0s 2ms/step - loss: 0.6859 - mse: 0.6859\n",
            "Epoch 6/50\n",
            "34/34 [==============================] - 0s 2ms/step - loss: 0.6401 - mse: 0.6401\n",
            "Epoch 7/50\n",
            "34/34 [==============================] - 0s 2ms/step - loss: 0.6037 - mse: 0.6037\n",
            "Epoch 8/50\n",
            "34/34 [==============================] - 0s 2ms/step - loss: 0.5689 - mse: 0.5689\n",
            "Epoch 9/50\n",
            "34/34 [==============================] - 0s 2ms/step - loss: 0.5509 - mse: 0.5509\n",
            "Epoch 10/50\n",
            "34/34 [==============================] - 0s 3ms/step - loss: 0.5303 - mse: 0.5303\n",
            "Epoch 11/50\n",
            "34/34 [==============================] - 0s 3ms/step - loss: 0.5249 - mse: 0.5249\n",
            "Epoch 12/50\n",
            "34/34 [==============================] - 0s 2ms/step - loss: 0.5086 - mse: 0.5086\n",
            "Epoch 13/50\n",
            "34/34 [==============================] - 0s 2ms/step - loss: 0.4894 - mse: 0.4894\n",
            "Epoch 14/50\n",
            "34/34 [==============================] - 0s 2ms/step - loss: 0.4783 - mse: 0.4783\n",
            "Epoch 15/50\n",
            "34/34 [==============================] - 0s 2ms/step - loss: 0.4733 - mse: 0.4733\n",
            "Epoch 16/50\n",
            "34/34 [==============================] - 0s 2ms/step - loss: 0.4675 - mse: 0.4675\n",
            "Epoch 17/50\n",
            "34/34 [==============================] - 0s 2ms/step - loss: 0.4649 - mse: 0.4649\n",
            "Epoch 18/50\n",
            "34/34 [==============================] - 0s 2ms/step - loss: 0.4533 - mse: 0.4533\n",
            "Epoch 19/50\n",
            "34/34 [==============================] - 0s 2ms/step - loss: 0.4539 - mse: 0.4539\n",
            "Epoch 20/50\n",
            "34/34 [==============================] - 0s 2ms/step - loss: 0.4498 - mse: 0.4498\n",
            "Epoch 21/50\n",
            "34/34 [==============================] - 0s 2ms/step - loss: 0.4424 - mse: 0.4424\n",
            "Epoch 22/50\n",
            "34/34 [==============================] - 0s 3ms/step - loss: 0.4432 - mse: 0.4432\n",
            "Epoch 23/50\n",
            "34/34 [==============================] - 0s 2ms/step - loss: 0.4374 - mse: 0.4374\n",
            "Epoch 24/50\n",
            "34/34 [==============================] - 0s 2ms/step - loss: 0.4354 - mse: 0.4354\n",
            "Epoch 25/50\n",
            "34/34 [==============================] - 0s 2ms/step - loss: 0.4307 - mse: 0.4307\n",
            "Epoch 26/50\n",
            "34/34 [==============================] - 0s 2ms/step - loss: 0.4308 - mse: 0.4308\n",
            "Epoch 27/50\n",
            "34/34 [==============================] - 0s 2ms/step - loss: 0.4265 - mse: 0.4265\n",
            "Epoch 28/50\n",
            "34/34 [==============================] - 0s 2ms/step - loss: 0.4301 - mse: 0.4301\n",
            "Epoch 29/50\n",
            "34/34 [==============================] - 0s 2ms/step - loss: 0.4202 - mse: 0.4202\n",
            "Epoch 30/50\n",
            "34/34 [==============================] - 0s 2ms/step - loss: 0.4219 - mse: 0.4219\n",
            "Epoch 31/50\n",
            "34/34 [==============================] - 0s 2ms/step - loss: 0.4182 - mse: 0.4182\n",
            "Epoch 32/50\n",
            "34/34 [==============================] - 0s 2ms/step - loss: 0.4218 - mse: 0.4218\n",
            "Epoch 33/50\n",
            "34/34 [==============================] - 0s 3ms/step - loss: 0.4214 - mse: 0.4214\n",
            "Epoch 34/50\n",
            "34/34 [==============================] - 0s 3ms/step - loss: 0.4188 - mse: 0.4188\n",
            "Epoch 35/50\n",
            "34/34 [==============================] - 0s 2ms/step - loss: 0.4109 - mse: 0.4109\n",
            "Epoch 36/50\n",
            "34/34 [==============================] - 0s 2ms/step - loss: 0.4155 - mse: 0.4155\n",
            "Epoch 37/50\n",
            "34/34 [==============================] - 0s 2ms/step - loss: 0.4189 - mse: 0.4189\n",
            "Epoch 38/50\n",
            "34/34 [==============================] - 0s 2ms/step - loss: 0.4140 - mse: 0.4140\n",
            "Epoch 39/50\n",
            "34/34 [==============================] - 0s 2ms/step - loss: 0.4083 - mse: 0.4083\n",
            "Epoch 40/50\n",
            "34/34 [==============================] - 0s 2ms/step - loss: 0.4098 - mse: 0.4098\n",
            "Epoch 41/50\n",
            "34/34 [==============================] - 0s 2ms/step - loss: 0.4117 - mse: 0.4117\n",
            "Epoch 42/50\n",
            "34/34 [==============================] - 0s 2ms/step - loss: 0.4125 - mse: 0.4125\n",
            "Epoch 43/50\n",
            "34/34 [==============================] - 0s 2ms/step - loss: 0.4084 - mse: 0.4084\n",
            "Epoch 44/50\n",
            "34/34 [==============================] - 0s 2ms/step - loss: 0.4063 - mse: 0.4063\n",
            "Epoch 45/50\n",
            "34/34 [==============================] - 0s 3ms/step - loss: 0.4016 - mse: 0.4016\n",
            "Epoch 46/50\n",
            "34/34 [==============================] - 0s 3ms/step - loss: 0.4020 - mse: 0.4020\n",
            "Epoch 47/50\n",
            "34/34 [==============================] - 0s 3ms/step - loss: 0.4093 - mse: 0.4093\n",
            "Epoch 48/50\n",
            "34/34 [==============================] - 0s 2ms/step - loss: 0.4059 - mse: 0.4059\n",
            "Epoch 49/50\n",
            "34/34 [==============================] - 0s 2ms/step - loss: 0.4095 - mse: 0.4095\n",
            "Epoch 50/50\n",
            "34/34 [==============================] - 0s 2ms/step - loss: 0.4070 - mse: 0.4070\n"
          ]
        },
        {
          "output_type": "execute_result",
          "data": {
            "text/plain": [
              "<keras.src.callbacks.History at 0x7c858b8aaf20>"
            ]
          },
          "metadata": {},
          "execution_count": 18
        }
      ]
    },
    {
      "cell_type": "code",
      "source": [
        "S = model.evaluate(X,y)\n",
        "S"
      ],
      "metadata": {
        "colab": {
          "base_uri": "https://localhost:8080/"
        },
        "id": "1WxJDg3lo8JM",
        "outputId": "6b9d9307-0cd4-4f7b-e6ce-9900a55ea896"
      },
      "execution_count": null,
      "outputs": [
        {
          "output_type": "stream",
          "name": "stdout",
          "text": [
            "532/532 [==============================] - 1s 1ms/step - loss: 0.3626 - mse: 0.3626\n"
          ]
        },
        {
          "output_type": "execute_result",
          "data": {
            "text/plain": [
              "[0.36259105801582336, 0.36259105801582336]"
            ]
          },
          "metadata": {},
          "execution_count": 19
        }
      ]
    },
    {
      "cell_type": "code",
      "source": [
        "df = pd.read_csv('sample_data/california_housing_test.csv')\n",
        "\n",
        "X = np.array(df.iloc[:,:-1].values)\n",
        "y = np.array(df.iloc[:,-1].values)\n",
        "X = sx_x.fit_transform(X)\n",
        "y = sx_x.fit_transform(y.reshape(-1,1))\n",
        "s = model.predict(X)"
      ],
      "metadata": {
        "colab": {
          "base_uri": "https://localhost:8080/"
        },
        "id": "YYdI2gjHp4OU",
        "outputId": "a10095fa-d0b1-4d8b-eec2-55e3dc390398"
      },
      "execution_count": null,
      "outputs": [
        {
          "output_type": "stream",
          "name": "stdout",
          "text": [
            "94/94 [==============================] - 0s 1ms/step\n"
          ]
        }
      ]
    },
    {
      "cell_type": "code",
      "source": [
        "print(s,s.shape)"
      ],
      "metadata": {
        "colab": {
          "base_uri": "https://localhost:8080/"
        },
        "id": "eLzIOBo2qTb-",
        "outputId": "ce2cdfdf-954a-4a8c-edd5-6c27caa24c98"
      },
      "execution_count": null,
      "outputs": [
        {
          "output_type": "stream",
          "name": "stdout",
          "text": [
            "[[ 1.2170452 ]\n",
            " [ 0.08266327]\n",
            " [ 0.54924697]\n",
            " ...\n",
            " [-0.952225  ]\n",
            " [-0.42481256]\n",
            " [ 2.0967076 ]] (3000, 1)\n"
          ]
        }
      ]
    },
    {
      "cell_type": "code",
      "source": [
        "print(y,y.shape)"
      ],
      "metadata": {
        "colab": {
          "base_uri": "https://localhost:8080/"
        },
        "id": "ay66Qe6YqpeQ",
        "outputId": "cb296a60-8ecc-4f35-d592-b19a72377304"
      },
      "execution_count": null,
      "outputs": [
        {
          "output_type": "stream",
          "name": "stdout",
          "text": [
            "[[ 1.22769852]\n",
            " [-0.25947002]\n",
            " [ 0.57164676]\n",
            " ...\n",
            " [-1.27184099]\n",
            " [-0.38325337]\n",
            " [ 2.60081839]] (3000, 1)\n"
          ]
        }
      ]
    },
    {
      "cell_type": "code",
      "source": [],
      "metadata": {
        "id": "43Bi3ydmr3Re"
      },
      "execution_count": null,
      "outputs": []
    }
  ]
}